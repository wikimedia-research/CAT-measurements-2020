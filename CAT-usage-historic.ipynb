{
 "cells": [
  {
   "cell_type": "markdown",
   "metadata": {},
   "source": [
    "# Dataset of CAT usage across time\n",
    "\n",
    "The phab task for measuring CAT usage asks to have a dashboard. We might as well populate that dashboard with historic data. To do so, we grab a dataset of all CAT revisions (using the edit tags) and grab data points weekly on Mondays from the first edit through the current time. This dataset will then be augmented with weekly updates from the dashboard code."
   ]
  },
  {
   "cell_type": "code",
   "execution_count": 1,
   "metadata": {},
   "outputs": [],
   "source": [
    "import os\n",
    "import json\n",
    "\n",
    "import datetime as dt\n",
    "\n",
    "import tabulate\n",
    "\n",
    "import numpy as np\n",
    "import pandas as pd\n",
    "\n",
    "from wmfdata import hive, mariadb"
   ]
  },
  {
   "cell_type": "code",
   "execution_count": 2,
   "metadata": {},
   "outputs": [],
   "source": [
    "## We store one long dataset, where each weekly snapshot has four rows\n",
    "\n",
    "dataset_filename = 'datasets/weekly-CAT-measurements.tsv'"
   ]
  },
  {
   "cell_type": "markdown",
   "metadata": {},
   "source": [
    "## Dataset\n",
    "\n",
    "Query:"
   ]
  },
  {
   "cell_type": "code",
   "execution_count": 3,
   "metadata": {},
   "outputs": [],
   "source": [
    "## NOTE: there are some anonmyous CAT edits, so we coalesce actor_user with 0 to make\n",
    "## it easy to filter those out later.\n",
    "\n",
    "cat_revisions_query = '''\n",
    "SELECT cat_edits.rev_id, actor_user, rev_timestamp, rev_page,\n",
    "    IF(mobile_edits.rev_id IS NOT NULL, 1, 0) AS mobile_edit,\n",
    "    IF(android_edits.rev_id IS NOT NULL, 1, 0) AS android_edit\n",
    "FROM (\n",
    "    SELECT rv.rev_id, coalesce(ac.actor_user, 0) AS actor_user, rev_timestamp, rev_page\n",
    "    FROM revision rv\n",
    "    INNER JOIN change_tag ct\n",
    "    ON rev_id = ct_rev_id\n",
    "    INNER JOIN change_tag_def ctd\n",
    "    ON ct_tag_id = ctd_id\n",
    "    INNER JOIN revision_actor_temp rat\n",
    "    ON rv.rev_id = rat.revactor_rev\n",
    "    INNER JOIN actor ac\n",
    "    ON rat.revactor_actor = ac.actor_id\n",
    "    WHERE ctd_name IN (\"computer-aided-tagging\", \"computer-aided-tagging-manual\")\n",
    ") AS cat_edits\n",
    "LEFT JOIN (\n",
    "    SELECT ct_rev_id AS rev_id\n",
    "    FROM change_tag\n",
    "    JOIN change_tag_def\n",
    "    ON ct_tag_id = ctd_id\n",
    "    WHERE ctd_name = \"mobile edit\"\n",
    ") AS mobile_edits\n",
    "ON cat_edits.rev_id = mobile_edits.rev_id\n",
    "LEFT JOIN  (\n",
    "    SELECT ct_rev_id AS rev_id\n",
    "    FROM change_tag\n",
    "    JOIN change_tag_def\n",
    "    ON ct_tag_id = ctd_id\n",
    "    WHERE ctd_name = \"android app edit\"\n",
    ") AS android_edits\n",
    "ON cat_edits.rev_id = android_edits.rev_id\n",
    "'''"
   ]
  },
  {
   "cell_type": "markdown",
   "metadata": {},
   "source": [
    "Grab data:"
   ]
  },
  {
   "cell_type": "code",
   "execution_count": 4,
   "metadata": {},
   "outputs": [],
   "source": [
    "cat_revisions = mariadb.run(cat_revisions_query, 'commonswiki')"
   ]
  },
  {
   "cell_type": "code",
   "execution_count": null,
   "metadata": {},
   "outputs": [],
   "source": [
    "cat_revisions.head()"
   ]
  },
  {
   "cell_type": "code",
   "execution_count": null,
   "metadata": {},
   "outputs": [],
   "source": [
    "cat_revisions.loc[cat_revisions['actor_user'] == 0].tail()"
   ]
  },
  {
   "cell_type": "code",
   "execution_count": 7,
   "metadata": {},
   "outputs": [
    {
     "data": {
      "text/plain": [
       "rev_id           227\n",
       "actor_user       227\n",
       "rev_timestamp    227\n",
       "rev_page         227\n",
       "mobile_edit      227\n",
       "android_edit     227\n",
       "dtype: int64"
      ]
     },
     "execution_count": 7,
     "metadata": {},
     "output_type": "execute_result"
    }
   ],
   "source": [
    "cat_revisions.loc[cat_revisions['actor_user'] == 0].count()"
   ]
  },
  {
   "cell_type": "code",
   "execution_count": 8,
   "metadata": {},
   "outputs": [
    {
     "data": {
      "text/plain": [
       "rev_id           0.063622\n",
       "actor_user       0.063622\n",
       "rev_timestamp    0.063622\n",
       "rev_page         0.063622\n",
       "mobile_edit      0.063622\n",
       "android_edit     0.063622\n",
       "dtype: float64"
      ]
     },
     "execution_count": 8,
     "metadata": {},
     "output_type": "execute_result"
    }
   ],
   "source": [
    "100 * cat_revisions.loc[cat_revisions['actor_user'] == 0].count() / len(cat_revisions)"
   ]
  },
  {
   "cell_type": "code",
   "execution_count": 9,
   "metadata": {},
   "outputs": [],
   "source": [
    "cat_revisions['rev_ts'] = pd.to_datetime(cat_revisions['rev_timestamp'], format='%Y%m%d%H%M%S')\n",
    "cat_revisions['actor_user'] = cat_revisions['actor_user'].astype(int)"
   ]
  },
  {
   "cell_type": "markdown",
   "metadata": {},
   "source": [
    "We remove all anonymous edits. Currently we do not know what causes them, and they are few."
   ]
  },
  {
   "cell_type": "code",
   "execution_count": 10,
   "metadata": {},
   "outputs": [],
   "source": [
    "cat_revisions = cat_revisions.loc[cat_revisions['actor_user'] > 0]"
   ]
  },
  {
   "cell_type": "markdown",
   "metadata": {},
   "source": [
    "# Mobile edits\n",
    "\n",
    "Out of curiosity, how many mobile edits do we have?"
   ]
  },
  {
   "cell_type": "code",
   "execution_count": 11,
   "metadata": {},
   "outputs": [
    {
     "data": {
      "text/plain": [
       "35616"
      ]
     },
     "execution_count": 11,
     "metadata": {},
     "output_type": "execute_result"
    }
   ],
   "source": [
    "len(cat_revisions.loc[cat_revisions['mobile_edit'] == 1])"
   ]
  },
  {
   "cell_type": "markdown",
   "metadata": {},
   "source": [
    "## Identify first date in the dataset"
   ]
  },
  {
   "cell_type": "code",
   "execution_count": 12,
   "metadata": {},
   "outputs": [],
   "source": [
    "first_edit = cat_revisions['rev_ts'].min()"
   ]
  },
  {
   "cell_type": "markdown",
   "metadata": {},
   "source": [
    "Identify the first Monday _after_ that first date."
   ]
  },
  {
   "cell_type": "code",
   "execution_count": 13,
   "metadata": {},
   "outputs": [],
   "source": [
    "first_monday = first_edit.date() + dt.timedelta(days = (0 - first_edit.weekday()) % 7)"
   ]
  },
  {
   "cell_type": "markdown",
   "metadata": {},
   "source": [
    "## Iterate and calculate\n",
    "\n",
    "Iterate weekly starting from `first_monday` until we're past today's date."
   ]
  },
  {
   "cell_type": "code",
   "execution_count": 14,
   "metadata": {},
   "outputs": [],
   "source": [
    "today = dt.date.today()"
   ]
  },
  {
   "cell_type": "code",
   "execution_count": 15,
   "metadata": {},
   "outputs": [],
   "source": [
    "def count_cat_contribs(df):\n",
    "    '''\n",
    "    For the slice `df` of a larger DataFrame with revisions, count the number\n",
    "    of files and contributors, overall and split by desktop, mobile, and Android.\n",
    "    \n",
    "    Returns a `pandas.DataFrame` with four rows and three columns: platform,\n",
    "    number of contributors, number of files.\n",
    "    '''\n",
    "\n",
    "    platforms = ['all', 'desktop', 'mobile', 'android']\n",
    "    n_contributors = [df['actor_user'].nunique()]\n",
    "    n_files = [df['rev_page'].nunique()]\n",
    "    \n",
    "    ## Desktop edits are non-mobile edits (and Android edits are mobile edits by default)\n",
    "    n_contributors.append(\n",
    "        df.loc[df['mobile_edit'] == 0]['actor_user'].nunique()\n",
    "    )\n",
    "    n_files.append(\n",
    "        df.loc[df['mobile_edit'] == 0]['rev_page'].nunique()\n",
    "    )\n",
    "    \n",
    "    ## Mobile edits are non-Android edits\n",
    "    n_contributors.append(\n",
    "        df.loc[(df['mobile_edit'] == 1) & (df['android_edit'] == 0)]['actor_user'].nunique()\n",
    "    )\n",
    "    n_files.append(\n",
    "        df.loc[(df['mobile_edit'] == 1) & (df['android_edit'] == 0)]['rev_page'].nunique()\n",
    "    )\n",
    "\n",
    "    ## Android edits are Android edits\n",
    "    n_contributors.append(\n",
    "        df.loc[df['android_edit'] == 1]['actor_user'].nunique()\n",
    "    )\n",
    "    n_files.append(\n",
    "        df.loc[df['android_edit'] == 1]['rev_page'].nunique()\n",
    "    )\n",
    "    \n",
    "    return(pd.DataFrame({\n",
    "        'platform' : platforms,\n",
    "        'n_contributors' : n_contributors,\n",
    "        'n_files' : n_files\n",
    "    }))\n"
   ]
  },
  {
   "cell_type": "code",
   "execution_count": 16,
   "metadata": {},
   "outputs": [],
   "source": [
    "cur_date = first_monday\n",
    "\n",
    "results = list()\n",
    "\n",
    "while cur_date < today:\n",
    "    cur_ts = dt.datetime.combine(cur_date, dt.time(0, 0, 0))\n",
    "    \n",
    "    summary_df = count_cat_contribs(cat_revisions.loc[cat_revisions['rev_ts'] < cur_ts])\n",
    "    summary_df['snapshot_timestamp'] = cur_ts\n",
    "    results.append(summary_df)\n",
    "    \n",
    "    ## advance one week\n",
    "    cur_date += dt.timedelta(days = 7)"
   ]
  },
  {
   "cell_type": "code",
   "execution_count": 17,
   "metadata": {},
   "outputs": [],
   "source": [
    "cat_summary = pd.concat(results)"
   ]
  },
  {
   "cell_type": "code",
   "execution_count": 18,
   "metadata": {},
   "outputs": [
    {
     "data": {
      "text/html": [
       "<div>\n",
       "<style scoped>\n",
       "    .dataframe tbody tr th:only-of-type {\n",
       "        vertical-align: middle;\n",
       "    }\n",
       "\n",
       "    .dataframe tbody tr th {\n",
       "        vertical-align: top;\n",
       "    }\n",
       "\n",
       "    .dataframe thead th {\n",
       "        text-align: right;\n",
       "    }\n",
       "</style>\n",
       "<table border=\"1\" class=\"dataframe\">\n",
       "  <thead>\n",
       "    <tr style=\"text-align: right;\">\n",
       "      <th></th>\n",
       "      <th>platform</th>\n",
       "      <th>n_contributors</th>\n",
       "      <th>n_files</th>\n",
       "      <th>snapshot_timestamp</th>\n",
       "    </tr>\n",
       "  </thead>\n",
       "  <tbody>\n",
       "    <tr>\n",
       "      <th>0</th>\n",
       "      <td>all</td>\n",
       "      <td>2</td>\n",
       "      <td>3</td>\n",
       "      <td>2019-11-11</td>\n",
       "    </tr>\n",
       "    <tr>\n",
       "      <th>1</th>\n",
       "      <td>desktop</td>\n",
       "      <td>2</td>\n",
       "      <td>3</td>\n",
       "      <td>2019-11-11</td>\n",
       "    </tr>\n",
       "    <tr>\n",
       "      <th>2</th>\n",
       "      <td>mobile</td>\n",
       "      <td>0</td>\n",
       "      <td>0</td>\n",
       "      <td>2019-11-11</td>\n",
       "    </tr>\n",
       "    <tr>\n",
       "      <th>3</th>\n",
       "      <td>android</td>\n",
       "      <td>0</td>\n",
       "      <td>0</td>\n",
       "      <td>2019-11-11</td>\n",
       "    </tr>\n",
       "    <tr>\n",
       "      <th>0</th>\n",
       "      <td>all</td>\n",
       "      <td>16</td>\n",
       "      <td>440</td>\n",
       "      <td>2019-11-18</td>\n",
       "    </tr>\n",
       "    <tr>\n",
       "      <th>...</th>\n",
       "      <td>...</td>\n",
       "      <td>...</td>\n",
       "      <td>...</td>\n",
       "      <td>...</td>\n",
       "    </tr>\n",
       "    <tr>\n",
       "      <th>3</th>\n",
       "      <td>android</td>\n",
       "      <td>6</td>\n",
       "      <td>267</td>\n",
       "      <td>2020-05-18</td>\n",
       "    </tr>\n",
       "    <tr>\n",
       "      <th>0</th>\n",
       "      <td>all</td>\n",
       "      <td>3459</td>\n",
       "      <td>104617</td>\n",
       "      <td>2020-05-25</td>\n",
       "    </tr>\n",
       "    <tr>\n",
       "      <th>1</th>\n",
       "      <td>desktop</td>\n",
       "      <td>3180</td>\n",
       "      <td>96183</td>\n",
       "      <td>2020-05-25</td>\n",
       "    </tr>\n",
       "    <tr>\n",
       "      <th>2</th>\n",
       "      <td>mobile</td>\n",
       "      <td>481</td>\n",
       "      <td>8202</td>\n",
       "      <td>2020-05-25</td>\n",
       "    </tr>\n",
       "    <tr>\n",
       "      <th>3</th>\n",
       "      <td>android</td>\n",
       "      <td>6</td>\n",
       "      <td>267</td>\n",
       "      <td>2020-05-25</td>\n",
       "    </tr>\n",
       "  </tbody>\n",
       "</table>\n",
       "<p>116 rows × 4 columns</p>\n",
       "</div>"
      ],
      "text/plain": [
       "   platform  n_contributors  n_files snapshot_timestamp\n",
       "0       all               2        3         2019-11-11\n",
       "1   desktop               2        3         2019-11-11\n",
       "2    mobile               0        0         2019-11-11\n",
       "3   android               0        0         2019-11-11\n",
       "0       all              16      440         2019-11-18\n",
       "..      ...             ...      ...                ...\n",
       "3   android               6      267         2020-05-18\n",
       "0       all            3459   104617         2020-05-25\n",
       "1   desktop            3180    96183         2020-05-25\n",
       "2    mobile             481     8202         2020-05-25\n",
       "3   android               6      267         2020-05-25\n",
       "\n",
       "[116 rows x 4 columns]"
      ]
     },
     "execution_count": 18,
     "metadata": {},
     "output_type": "execute_result"
    }
   ],
   "source": [
    "cat_summary"
   ]
  },
  {
   "cell_type": "markdown",
   "metadata": {},
   "source": [
    "## Write out datasets\n",
    "\n",
    "We add the `snapshot_method` column and set it to `summary` for data added using our \"summary statistics\" approach. For fresh data gathered weekly, it will be `live` instead, as it'll reflect the status of the live replica at that point in time. This allows us to separate between data points that are based on estimates of available data (\"summary\", where edits to deleted files aren't counted) and those that reflect a snapshot of the database when the measurements were gathered (\"live\")."
   ]
  },
  {
   "cell_type": "code",
   "execution_count": 19,
   "metadata": {},
   "outputs": [],
   "source": [
    "cat_summary['snapshot_method'] = 'summary'"
   ]
  },
  {
   "cell_type": "code",
   "execution_count": 20,
   "metadata": {},
   "outputs": [],
   "source": [
    "output_columns = ['snapshot_timestamp', 'snapshot_method', 'platform', 'n_contributors', 'n_files']\n",
    "\n",
    "cat_summary.to_csv(dataset_filename, columns = output_columns,\n",
    "                    header = True, index = False, sep = '\\t')"
   ]
  }
 ],
 "metadata": {
  "kernelspec": {
   "display_name": "Python 3",
   "language": "python",
   "name": "python3"
  },
  "language_info": {
   "codemirror_mode": {
    "name": "ipython",
    "version": 3
   },
   "file_extension": ".py",
   "mimetype": "text/x-python",
   "name": "python",
   "nbconvert_exporter": "python",
   "pygments_lexer": "ipython3",
   "version": "3.7.3"
  }
 },
 "nbformat": 4,
 "nbformat_minor": 4
}
